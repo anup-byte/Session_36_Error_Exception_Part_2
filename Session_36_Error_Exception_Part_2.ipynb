{
 "cells": [
  {
   "cell_type": "code",
   "execution_count": 1,
   "id": "c0c05252",
   "metadata": {},
   "outputs": [],
   "source": [
    "# LBYL(Look before you Leap)"
   ]
  },
  {
   "cell_type": "code",
   "execution_count": 2,
   "id": "78a2b7ee",
   "metadata": {},
   "outputs": [],
   "source": [
    "# EAFP(Easier to ASK for Forgiveness than Permission)"
   ]
  },
  {
   "cell_type": "code",
   "execution_count": 3,
   "id": "a892d92b",
   "metadata": {},
   "outputs": [
    {
     "name": "stdout",
     "output_type": "stream",
     "text": [
      "1\n"
     ]
    }
   ],
   "source": [
    "#LBYL\n",
    "# I want to access than value at 0 index\n",
    "\n",
    "my_list = [1,2,3]\n",
    "if len(my_list) > 0:\n",
    "    first_element = my_list[0]\n",
    "    print(first_element)\n",
    "    \n",
    "else:\n",
    "    print(\"List is empty\")\n"
   ]
  },
  {
   "cell_type": "code",
   "execution_count": 4,
   "id": "b415870f",
   "metadata": {},
   "outputs": [
    {
     "data": {
      "text/plain": [
       "1"
      ]
     },
     "execution_count": 4,
     "metadata": {},
     "output_type": "execute_result"
    }
   ],
   "source": [
    "my_list[0]"
   ]
  },
  {
   "cell_type": "code",
   "execution_count": 5,
   "id": "7851e0e4",
   "metadata": {},
   "outputs": [
    {
     "ename": "IndexError",
     "evalue": "list index out of range",
     "output_type": "error",
     "traceback": [
      "\u001b[0;31m---------------------------------------------------------------------------\u001b[0m",
      "\u001b[0;31mIndexError\u001b[0m                                Traceback (most recent call last)",
      "Cell \u001b[0;32mIn[5], line 2\u001b[0m\n\u001b[1;32m      1\u001b[0m my_list1 \u001b[38;5;241m=\u001b[39m []\n\u001b[0;32m----> 2\u001b[0m my_list1[\u001b[38;5;241m0\u001b[39m]\n",
      "\u001b[0;31mIndexError\u001b[0m: list index out of range"
     ]
    }
   ],
   "source": [
    "my_list1 = []\n",
    "my_list1[0]"
   ]
  },
  {
   "cell_type": "code",
   "execution_count": 6,
   "id": "e6c2b545",
   "metadata": {},
   "outputs": [],
   "source": [
    "# explicitely checking for conditions or errors before performing an action"
   ]
  },
  {
   "cell_type": "code",
   "execution_count": 7,
   "id": "904c792f",
   "metadata": {},
   "outputs": [
    {
     "name": "stdout",
     "output_type": "stream",
     "text": [
      "List is empty\n"
     ]
    }
   ],
   "source": [
    "my_list = []\n",
    "if len(my_list) > 0:\n",
    "    first_element = my_list[0]\n",
    "    print(first_element)\n",
    "    \n",
    "else:\n",
    "    print(\"List is empty\")"
   ]
  },
  {
   "cell_type": "code",
   "execution_count": 8,
   "id": "3f652732",
   "metadata": {
    "scrolled": true
   },
   "outputs": [
    {
     "name": "stdout",
     "output_type": "stream",
     "text": [
      "\n",
      "This is 2nd line\n",
      "This is 3rd lineprovide free education to all\n",
      "Our Vision is to make education reach the last person on this earth\n",
      "\n"
     ]
    }
   ],
   "source": [
    "import os\n",
    "\n",
    "file_path = 'testfile1.txt'\n",
    "if os.path.exists(file_path):\n",
    "    with open(file_path, 'r') as file:\n",
    "        content = file.read()\n",
    "        print(content)\n",
    "        \n",
    "else:\n",
    "    print(\"File does not exist.\")\n",
    "    "
   ]
  },
  {
   "cell_type": "code",
   "execution_count": 9,
   "id": "c24840ed",
   "metadata": {},
   "outputs": [
    {
     "name": "stdout",
     "output_type": "stream",
     "text": [
      "File does not exist.\n"
     ]
    }
   ],
   "source": [
    "import os\n",
    "\n",
    "file_path = 'testfile765.txt'\n",
    "if os.path.exists(file_path):\n",
    "    with open(file_path, 'r') as file:\n",
    "        content = file.read()\n",
    "        print(content)\n",
    "        \n",
    "else:\n",
    "    print(\"File does not exist.\")\n",
    "    "
   ]
  },
  {
   "cell_type": "code",
   "execution_count": 10,
   "id": "0bd51ce8",
   "metadata": {},
   "outputs": [
    {
     "ename": "FileNotFoundError",
     "evalue": "[Errno 2] No such file or directory: 'testfile3765.txt'",
     "output_type": "error",
     "traceback": [
      "\u001b[0;31m---------------------------------------------------------------------------\u001b[0m",
      "\u001b[0;31mFileNotFoundError\u001b[0m                         Traceback (most recent call last)",
      "Cell \u001b[0;32mIn[10], line 2\u001b[0m\n\u001b[1;32m      1\u001b[0m file_name \u001b[38;5;241m=\u001b[39m \u001b[38;5;124m'\u001b[39m\u001b[38;5;124mtestfile3765.txt\u001b[39m\u001b[38;5;124m'\u001b[39m\n\u001b[0;32m----> 2\u001b[0m f \u001b[38;5;241m=\u001b[39m \u001b[38;5;28mopen\u001b[39m(file_name, \u001b[38;5;124m'\u001b[39m\u001b[38;5;124mr\u001b[39m\u001b[38;5;124m'\u001b[39m)\n\u001b[1;32m      3\u001b[0m f\u001b[38;5;241m.\u001b[39mread()\n",
      "File \u001b[0;32m~/anaconda3/lib/python3.11/site-packages/IPython/core/interactiveshell.py:284\u001b[0m, in \u001b[0;36m_modified_open\u001b[0;34m(file, *args, **kwargs)\u001b[0m\n\u001b[1;32m    277\u001b[0m \u001b[38;5;28;01mif\u001b[39;00m file \u001b[38;5;129;01min\u001b[39;00m {\u001b[38;5;241m0\u001b[39m, \u001b[38;5;241m1\u001b[39m, \u001b[38;5;241m2\u001b[39m}:\n\u001b[1;32m    278\u001b[0m     \u001b[38;5;28;01mraise\u001b[39;00m \u001b[38;5;167;01mValueError\u001b[39;00m(\n\u001b[1;32m    279\u001b[0m         \u001b[38;5;124mf\u001b[39m\u001b[38;5;124m\"\u001b[39m\u001b[38;5;124mIPython won\u001b[39m\u001b[38;5;124m'\u001b[39m\u001b[38;5;124mt let you open fd=\u001b[39m\u001b[38;5;132;01m{\u001b[39;00mfile\u001b[38;5;132;01m}\u001b[39;00m\u001b[38;5;124m by default \u001b[39m\u001b[38;5;124m\"\u001b[39m\n\u001b[1;32m    280\u001b[0m         \u001b[38;5;124m\"\u001b[39m\u001b[38;5;124mas it is likely to crash IPython. If you know what you are doing, \u001b[39m\u001b[38;5;124m\"\u001b[39m\n\u001b[1;32m    281\u001b[0m         \u001b[38;5;124m\"\u001b[39m\u001b[38;5;124myou can use builtins\u001b[39m\u001b[38;5;124m'\u001b[39m\u001b[38;5;124m open.\u001b[39m\u001b[38;5;124m\"\u001b[39m\n\u001b[1;32m    282\u001b[0m     )\n\u001b[0;32m--> 284\u001b[0m \u001b[38;5;28;01mreturn\u001b[39;00m io_open(file, \u001b[38;5;241m*\u001b[39margs, \u001b[38;5;241m*\u001b[39m\u001b[38;5;241m*\u001b[39mkwargs)\n",
      "\u001b[0;31mFileNotFoundError\u001b[0m: [Errno 2] No such file or directory: 'testfile3765.txt'"
     ]
    }
   ],
   "source": [
    "file_name = 'testfile3765.txt'\n",
    "f = open(file_name, 'r')\n",
    "f.read()"
   ]
  },
  {
   "cell_type": "code",
   "execution_count": 11,
   "id": "96fa6748",
   "metadata": {},
   "outputs": [
    {
     "name": "stdout",
     "output_type": "stream",
     "text": [
      "File does not exist.\n"
     ]
    }
   ],
   "source": [
    "import os\n",
    "\n",
    "file_path = 'testfile3765.txt'\n",
    "if os.path.exists(file_path):\n",
    "    with open(file_path, 'r') as file:\n",
    "        content = file.read()\n",
    "        print(content)\n",
    "        \n",
    "else:\n",
    "    print(\"File does not exist.\")"
   ]
  },
  {
   "cell_type": "code",
   "execution_count": 12,
   "id": "d8de5345",
   "metadata": {},
   "outputs": [],
   "source": [
    "import os\n",
    "\n",
    "file_path = 'testfile3765.txt'\n",
    "\n",
    "if os.path.exists(file_path):\n",
    "    with open(file_path, 'r') as file:\n",
    "        content = file.read()\n",
    "        print(content)\n",
    "        "
   ]
  },
  {
   "cell_type": "code",
   "execution_count": 13,
   "id": "1ce76c3b",
   "metadata": {},
   "outputs": [],
   "source": [
    "my_dict = {\"name\" : \"AI KI Pathshala\", \"roll\" : 3454}"
   ]
  },
  {
   "cell_type": "code",
   "execution_count": 14,
   "id": "4c67834d",
   "metadata": {},
   "outputs": [
    {
     "data": {
      "text/plain": [
       "'AI KI Pathshala'"
      ]
     },
     "execution_count": 14,
     "metadata": {},
     "output_type": "execute_result"
    }
   ],
   "source": [
    "my_dict[\"name\"]"
   ]
  },
  {
   "cell_type": "code",
   "execution_count": 15,
   "id": "bbf38d16",
   "metadata": {},
   "outputs": [
    {
     "ename": "KeyError",
     "evalue": "'ruchi'",
     "output_type": "error",
     "traceback": [
      "\u001b[0;31m---------------------------------------------------------------------------\u001b[0m",
      "\u001b[0;31mKeyError\u001b[0m                                  Traceback (most recent call last)",
      "Cell \u001b[0;32mIn[15], line 1\u001b[0m\n\u001b[0;32m----> 1\u001b[0m my_dict[\u001b[38;5;124m\"\u001b[39m\u001b[38;5;124mruchi\u001b[39m\u001b[38;5;124m\"\u001b[39m]\n",
      "\u001b[0;31mKeyError\u001b[0m: 'ruchi'"
     ]
    }
   ],
   "source": [
    "my_dict[\"ruchi\"]"
   ]
  },
  {
   "cell_type": "code",
   "execution_count": 16,
   "id": "da700fc5",
   "metadata": {},
   "outputs": [
    {
     "name": "stdout",
     "output_type": "stream",
     "text": [
      " 'ruchi' key does not exist.\n"
     ]
    }
   ],
   "source": [
    "my_dict = {\"name\" : \"AI KI Pathshala\", \"roll\" : 3454}\n",
    "\n",
    "key = 'ruchi'\n",
    "\n",
    "if key in my_dict:\n",
    "    value = my_dict[key]\n",
    "    print(value)\n",
    "    \n",
    "else:\n",
    "    print(f\" '{key}' key does not exist.\")    "
   ]
  },
  {
   "cell_type": "code",
   "execution_count": 17,
   "id": "33f109f4",
   "metadata": {},
   "outputs": [
    {
     "name": "stdout",
     "output_type": "stream",
     "text": [
      "3454\n"
     ]
    }
   ],
   "source": [
    "my_dict = {\"name\" : \"AI KI Pathshala\", \"roll\" : 3454}\n",
    "\n",
    "key = 'roll'\n",
    "\n",
    "if key in my_dict:\n",
    "    value = my_dict[key]\n",
    "    print(value)\n",
    "    \n",
    "else:\n",
    "    print(f\" '{key}' key does not exist.\")"
   ]
  },
  {
   "cell_type": "code",
   "execution_count": 18,
   "id": "bef84b02",
   "metadata": {},
   "outputs": [],
   "source": [
    "# EAFP "
   ]
  },
  {
   "cell_type": "code",
   "execution_count": 19,
   "id": "8f82e7db",
   "metadata": {
    "scrolled": true
   },
   "outputs": [
    {
     "name": "stdout",
     "output_type": "stream",
     "text": [
      "32\n"
     ]
    }
   ],
   "source": [
    "my_list = [32, 45, 67, 78]\n",
    "\n",
    "try:\n",
    "    first_element = my_list[0]\n",
    "    print(first_element)\n",
    "    \n",
    "except IndexError:\n",
    "    print(\"List is empty or index out of range.\")\n",
    "    "
   ]
  },
  {
   "cell_type": "code",
   "execution_count": 20,
   "id": "83646258",
   "metadata": {},
   "outputs": [
    {
     "name": "stdout",
     "output_type": "stream",
     "text": [
      "List is empty or index out of range.\n"
     ]
    }
   ],
   "source": [
    "my_list = []\n",
    "\n",
    "try:\n",
    "    first_element = my_list[0]\n",
    "    print(first_element)\n",
    "    \n",
    "except IndexError:\n",
    "    print(\"List is empty or index out of range.\")"
   ]
  },
  {
   "cell_type": "code",
   "execution_count": 21,
   "id": "61c1153a",
   "metadata": {},
   "outputs": [
    {
     "name": "stdout",
     "output_type": "stream",
     "text": [
      "\n",
      "This is 2nd line\n",
      "This is 3rd lineprovide free education to all\n",
      "Our Vision is to make education reach the last person on this earth\n",
      "\n"
     ]
    }
   ],
   "source": [
    "file_path = 'testfile1.txt'\n",
    "\n",
    "try:\n",
    "    with open(file_path, 'r') as file:\n",
    "        content = file.read()\n",
    "        print(content)\n",
    "        \n",
    "except FileNotFoundError:\n",
    "    print(\"File does not exist or cannot be opened\")\n"
   ]
  },
  {
   "cell_type": "code",
   "execution_count": 22,
   "id": "b9b49de8",
   "metadata": {},
   "outputs": [
    {
     "name": "stdout",
     "output_type": "stream",
     "text": [
      "File does not exist or cannot be opened\n"
     ]
    }
   ],
   "source": [
    "file_path = 'testfile2345.txt'\n",
    "\n",
    "try:\n",
    "    with open(file_path, 'r') as f:\n",
    "        content = f.read()\n",
    "        print(content)\n",
    "        \n",
    "except FileNotFoundError:\n",
    "    print(\"File does not exist or cannot be opened\")"
   ]
  },
  {
   "cell_type": "markdown",
   "id": "b6c5499e",
   "metadata": {},
   "source": [
    "| Exception | description   |\n",
    "|------|------|\n",
    "|   Exception  | Base class of exception. Allother exception derived from this class.|\n",
    "|   ArithmeticError  | Base class for those exceptions that are raised for arithmetic or numeric errors.|\n",
    "|   ZeroDivisionError  | Raised when division or modulo operation is zero|\n",
    "|   ModuleNotFoundError  | Raised by import when imported module could not be located|\n",
    "|   KeyError  | Raised when a mapping (dictionary) key is not found in keys of a dictionary.|\n",
    "|   MemoryError  | Raised when an operation runs out of memory|"
   ]
  },
  {
   "cell_type": "code",
   "execution_count": 23,
   "id": "f98f8730",
   "metadata": {},
   "outputs": [
    {
     "name": "stdout",
     "output_type": "stream",
     "text": [
      "An ArithmeticError occurred: division by zero\n"
     ]
    }
   ],
   "source": [
    "# ArithmaticError\n",
    "\n",
    "try:\n",
    "    result = 10 / 0  # Division by zero raises ArithmeticError\n",
    "    \n",
    "except ArithmeticError as e:\n",
    "    print(\"An ArithmeticError occurred:\", e)"
   ]
  },
  {
   "cell_type": "code",
   "execution_count": 24,
   "id": "504f663c",
   "metadata": {},
   "outputs": [
    {
     "ename": "ZeroDivisionError",
     "evalue": "division by zero",
     "output_type": "error",
     "traceback": [
      "\u001b[0;31m---------------------------------------------------------------------------\u001b[0m",
      "\u001b[0;31mZeroDivisionError\u001b[0m                         Traceback (most recent call last)",
      "Cell \u001b[0;32mIn[24], line 1\u001b[0m\n\u001b[0;32m----> 1\u001b[0m \u001b[38;5;241m10\u001b[39m\u001b[38;5;241m/\u001b[39m\u001b[38;5;241m0\u001b[39m\n",
      "\u001b[0;31mZeroDivisionError\u001b[0m: division by zero"
     ]
    }
   ],
   "source": [
    "10/0"
   ]
  },
  {
   "cell_type": "code",
   "execution_count": 25,
   "id": "6cc52080",
   "metadata": {},
   "outputs": [
    {
     "name": "stdout",
     "output_type": "stream",
     "text": [
      "An ArithmeticError occurred:\n"
     ]
    }
   ],
   "source": [
    "# ArithmaticError\n",
    "\n",
    "try:\n",
    "    result = 10 / 0  # Division by zero raises ArithmeticError\n",
    "    \n",
    "except ArithmeticError:\n",
    "    print(\"An ArithmeticError occurred:\")"
   ]
  },
  {
   "cell_type": "code",
   "execution_count": 26,
   "id": "2bc93cf6",
   "metadata": {},
   "outputs": [
    {
     "name": "stdout",
     "output_type": "stream",
     "text": [
      "An ArithmeticError occurred: division by zero\n"
     ]
    }
   ],
   "source": [
    "# ZeroDivisionError\n",
    "\n",
    "try:\n",
    "    result = 10 / 0  # Division by zero raises ArithmeticError\n",
    "    \n",
    "except ZeroDivisionError as e:\n",
    "    print(\"An ArithmeticError occurred:\", e)"
   ]
  },
  {
   "cell_type": "code",
   "execution_count": 27,
   "id": "f6208727",
   "metadata": {},
   "outputs": [
    {
     "name": "stdout",
     "output_type": "stream",
     "text": [
      "A ModuleNotFoundError occured No module named 'non_existent_module'\n"
     ]
    }
   ],
   "source": [
    "# ModuleNotFoundError\n",
    "\n",
    "try:\n",
    "    import non_existent_module\n",
    "\n",
    "except ModuleNotFoundError as e:\n",
    "    print(\"A ModuleNotFoundError occured\", e)\n",
    "    "
   ]
  },
  {
   "cell_type": "code",
   "execution_count": 28,
   "id": "e1376666",
   "metadata": {},
   "outputs": [
    {
     "name": "stdout",
     "output_type": "stream",
     "text": [
      "No module named 'non_existent_module'\n"
     ]
    }
   ],
   "source": [
    "# ModuleNotFoundError\n",
    "\n",
    "try:\n",
    "    import non_existent_module\n",
    "\n",
    "except ModuleNotFoundError as e:\n",
    "    print(e)\n",
    "    "
   ]
  },
  {
   "cell_type": "code",
   "execution_count": 29,
   "id": "5b25d010",
   "metadata": {},
   "outputs": [],
   "source": [
    "# KeyError\n"
   ]
  },
  {
   "cell_type": "code",
   "execution_count": 14,
   "id": "04ca53d6",
   "metadata": {},
   "outputs": [
    {
     "name": "stdout",
     "output_type": "stream",
     "text": [
      "A KeyError Ocuured: 'shanker'\n"
     ]
    }
   ],
   "source": [
    "my_dict = {\"name\" : \"AI KI Pathshala\", \"roll\" : 3454}\n",
    "\n",
    "try:\n",
    "    value = my_dict[\"shanker\"]\n",
    "    \n",
    "except KeyError as e:\n",
    "    print(\"A KeyError Ocuured:\",e)"
   ]
  },
  {
   "cell_type": "code",
   "execution_count": null,
   "id": "161d7f22",
   "metadata": {},
   "outputs": [],
   "source": [
    "# Memory Error\n",
    "# This error occurs when an operation runs out of Memory\n",
    "\n",
    "try:\n",
    "    large_list = [i for i in range(1000 ** 1000)]\n",
    "    \n",
    "except MemoryError as e:\n",
    "    print(\"A Memory error occured:\", e)"
   ]
  }
 ],
 "metadata": {
  "kernelspec": {
   "display_name": "Python 3 (ipykernel)",
   "language": "python",
   "name": "python3"
  },
  "language_info": {
   "codemirror_mode": {
    "name": "ipython",
    "version": 3
   },
   "file_extension": ".py",
   "mimetype": "text/x-python",
   "name": "python",
   "nbconvert_exporter": "python",
   "pygments_lexer": "ipython3",
   "version": "3.11.4"
  }
 },
 "nbformat": 4,
 "nbformat_minor": 5
}
